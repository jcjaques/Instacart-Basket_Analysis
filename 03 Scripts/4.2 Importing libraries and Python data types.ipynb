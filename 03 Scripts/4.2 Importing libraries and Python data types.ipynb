{
 "cells": [
  {
   "cell_type": "markdown",
   "id": "ff206eed-3652-4d4e-933e-064d44453004",
   "metadata": {},
   "source": [
    "# 01. Importing libraries"
   ]
  },
  {
   "cell_type": "code",
   "execution_count": 1,
   "id": "9e836541-8685-4196-bcaf-288b2ba4c80c",
   "metadata": {},
   "outputs": [],
   "source": [
    "# Import libraries\n",
    "import pandas as pd\n",
    "import numpy as np\n",
    "import os"
   ]
  },
  {
   "cell_type": "markdown",
   "id": "c9601594-c333-4d5f-9e0c-a9f081a5d725",
   "metadata": {},
   "source": [
    "# 02. Data types"
   ]
  },
  {
   "cell_type": "code",
   "execution_count": 2,
   "id": "2bb29f1b-babd-4e54-9a25-93269e684c57",
   "metadata": {},
   "outputs": [],
   "source": [
    "x=25"
   ]
  },
  {
   "cell_type": "code",
   "execution_count": 3,
   "id": "f350e4b5-27bf-4ffd-ba25-79bfc2ee6470",
   "metadata": {},
   "outputs": [],
   "source": [
    "y=50"
   ]
  },
  {
   "cell_type": "code",
   "execution_count": 4,
   "id": "7745229e-acd6-475a-bacd-73a564ed6ab7",
   "metadata": {},
   "outputs": [
    {
     "name": "stdout",
     "output_type": "stream",
     "text": [
      "100\n"
     ]
    }
   ],
   "source": [
    "print(y+y)"
   ]
  },
  {
   "cell_type": "code",
   "execution_count": 5,
   "id": "9d96f010-9d96-40a3-9dc9-f83ef97ba136",
   "metadata": {},
   "outputs": [
    {
     "name": "stdout",
     "output_type": "stream",
     "text": [
      "100\n"
     ]
    }
   ],
   "source": [
    "print(x*4)"
   ]
  },
  {
   "cell_type": "code",
   "execution_count": 6,
   "id": "e1971f03-d4a4-4bcc-bca4-46a0f4f214cc",
   "metadata": {},
   "outputs": [
    {
     "name": "stdout",
     "output_type": "stream",
     "text": [
      "100\n"
     ]
    }
   ],
   "source": [
    "print(y+x+x)"
   ]
  },
  {
   "cell_type": "code",
   "execution_count": 7,
   "id": "79e73d04-b9a6-4b03-976e-64d08d641831",
   "metadata": {},
   "outputs": [],
   "source": [
    "a=4.25"
   ]
  },
  {
   "cell_type": "code",
   "execution_count": 8,
   "id": "1032ee5c-ea5b-4bfc-89ea-e6f53bcb6dc0",
   "metadata": {},
   "outputs": [],
   "source": [
    "b=8.5"
   ]
  },
  {
   "cell_type": "code",
   "execution_count": 9,
   "id": "bb6d8a13-edaf-4a71-a6a6-181dc81f53d4",
   "metadata": {},
   "outputs": [
    {
     "name": "stdout",
     "output_type": "stream",
     "text": [
      "2.0\n"
     ]
    }
   ],
   "source": [
    "print(b/a)"
   ]
  },
  {
   "cell_type": "code",
   "execution_count": 10,
   "id": "84982fc8-1c30-4748-86b2-624b713da353",
   "metadata": {},
   "outputs": [],
   "source": [
    "c='H'"
   ]
  },
  {
   "cell_type": "code",
   "execution_count": 11,
   "id": "c60f9fac-ea94-4093-ae2f-ec97e75e82f0",
   "metadata": {},
   "outputs": [],
   "source": [
    "d='E'"
   ]
  },
  {
   "cell_type": "code",
   "execution_count": 12,
   "id": "f4471a5c-c3c7-4d0f-ac65-b019f3db6e1a",
   "metadata": {},
   "outputs": [],
   "source": [
    "e='Y'"
   ]
  },
  {
   "cell_type": "code",
   "execution_count": 13,
   "id": "a97bd4b6-4c46-4b70-b0f5-e6ab90ce5e0a",
   "metadata": {},
   "outputs": [
    {
     "name": "stdout",
     "output_type": "stream",
     "text": [
      "HEY\n"
     ]
    }
   ],
   "source": [
    "print(c+d+e)"
   ]
  },
  {
   "cell_type": "code",
   "execution_count": 25,
   "id": "c422a33e-d48d-4ad3-b5b8-fafea372fdb8",
   "metadata": {},
   "outputs": [],
   "source": [
    "f=\"how \""
   ]
  },
  {
   "cell_type": "code",
   "execution_count": 23,
   "id": "4b3a3a1e-a1b1-4f26-8107-af309b3ca5cc",
   "metadata": {},
   "outputs": [],
   "source": [
    "k=' '"
   ]
  },
  {
   "cell_type": "code",
   "execution_count": 17,
   "id": "3721eded-98cb-4f05-81df-fbf1b6bdbe9d",
   "metadata": {},
   "outputs": [],
   "source": [
    "g='are '"
   ]
  },
  {
   "cell_type": "code",
   "execution_count": 18,
   "id": "ba1f96eb-8076-498b-8dda-ff4ba4ca1cac",
   "metadata": {},
   "outputs": [],
   "source": [
    "h='you'"
   ]
  },
  {
   "cell_type": "code",
   "execution_count": 19,
   "id": "dd9df1bc-bb58-44f8-9e83-7e1712a24978",
   "metadata": {},
   "outputs": [],
   "source": [
    "i='?'"
   ]
  },
  {
   "cell_type": "code",
   "execution_count": 20,
   "id": "0870a556-8ba8-4038-8c9e-5af4ff609bd9",
   "metadata": {},
   "outputs": [],
   "source": [
    "j='good'"
   ]
  },
  {
   "cell_type": "code",
   "execution_count": 26,
   "id": "ba6e28ff-8a27-483f-8725-237f4c7797a6",
   "metadata": {},
   "outputs": [
    {
     "name": "stdout",
     "output_type": "stream",
     "text": [
      "how are you?\n"
     ]
    }
   ],
   "source": [
    "print(f+g+h+i)"
   ]
  },
  {
   "cell_type": "code",
   "execution_count": 24,
   "id": "3f1b90ac-9800-4690-b391-65c4a153ebca",
   "metadata": {},
   "outputs": [
    {
     "name": "stdout",
     "output_type": "stream",
     "text": [
      "you are good?\n"
     ]
    }
   ],
   "source": [
    "print(h+k+g+j+i)"
   ]
  },
  {
   "cell_type": "code",
   "execution_count": null,
   "id": "d050733d-ff4a-4813-a5ce-1b83db78f514",
   "metadata": {},
   "outputs": [],
   "source": []
  }
 ],
 "metadata": {
  "kernelspec": {
   "display_name": "Python 3 (ipykernel)",
   "language": "python",
   "name": "python3"
  },
  "language_info": {
   "codemirror_mode": {
    "name": "ipython",
    "version": 3
   },
   "file_extension": ".py",
   "mimetype": "text/x-python",
   "name": "python",
   "nbconvert_exporter": "python",
   "pygments_lexer": "ipython3",
   "version": "3.12.7"
  }
 },
 "nbformat": 4,
 "nbformat_minor": 5
}
