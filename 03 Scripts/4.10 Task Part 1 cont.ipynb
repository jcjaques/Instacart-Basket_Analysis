{
 "cells": [
  {
   "cell_type": "markdown",
   "id": "fae43540-0f1b-48f1-af68-0c77ae651f42",
   "metadata": {},
   "source": [
    "# 4.10 Task Part 1 cont"
   ]
  },
  {
   "cell_type": "markdown",
   "id": "5a0f55c3-0ec1-40aa-9e0a-ec264507f621",
   "metadata": {},
   "source": [
    "### Import libraries and create path"
   ]
  },
  {
   "cell_type": "code",
   "execution_count": 1,
   "id": "7d51b0b5-4e17-4406-a4cd-f8aa407acd18",
   "metadata": {},
   "outputs": [],
   "source": [
    "# Import libraries\n",
    "import pandas as pd\n",
    "import numpy as np\n",
    "import os\n",
    "import matplotlib.pyplot as plt\n",
    "import seaborn as sns\n",
    "import scipy"
   ]
  },
  {
   "cell_type": "code",
   "execution_count": 2,
   "id": "ee84f5db-9666-4ad6-9ef7-038c510480b4",
   "metadata": {},
   "outputs": [],
   "source": [
    "# Create path\n",
    "path = r'C:\\Users\\jeffr\\Documents\\Instacart Basket Analysis'"
   ]
  },
  {
   "cell_type": "code",
   "execution_count": 6,
   "id": "5508a2e0-8d01-4b7e-83bc-621283f72f45",
   "metadata": {},
   "outputs": [],
   "source": [
    "#import df_cop data set\n",
    "df_cop = pd.read_pickle(os.path.join(path, '02 Data', 'Prepared Data', 'df_cop4.pkl'))"
   ]
  },
  {
   "cell_type": "code",
   "execution_count": 6,
   "id": "ccf5da33-33bd-47b0-a8b0-2f3980a70414",
   "metadata": {},
   "outputs": [
    {
     "data": {
      "text/plain": [
       "(30964564, 38)"
      ]
     },
     "execution_count": 6,
     "metadata": {},
     "output_type": "execute_result"
    }
   ],
   "source": [
    "df_cop.shape"
   ]
  },
  {
   "cell_type": "code",
   "execution_count": 4,
   "id": "205ef7e8-4f06-4723-a17e-85ee13c4b536",
   "metadata": {},
   "outputs": [
    {
     "data": {
      "text/html": [
       "<div>\n",
       "<style scoped>\n",
       "    .dataframe tbody tr th:only-of-type {\n",
       "        vertical-align: middle;\n",
       "    }\n",
       "\n",
       "    .dataframe tbody tr th {\n",
       "        vertical-align: top;\n",
       "    }\n",
       "\n",
       "    .dataframe thead th {\n",
       "        text-align: right;\n",
       "    }\n",
       "</style>\n",
       "<table border=\"1\" class=\"dataframe\">\n",
       "  <thead>\n",
       "    <tr style=\"text-align: right;\">\n",
       "      <th></th>\n",
       "      <th>order_id</th>\n",
       "      <th>user_id</th>\n",
       "      <th>order_number</th>\n",
       "      <th>orders_day_of_week</th>\n",
       "      <th>order_time_of_day</th>\n",
       "      <th>days_since_prior_order</th>\n",
       "      <th>product_id</th>\n",
       "      <th>add_to_cart_order</th>\n",
       "      <th>reordered</th>\n",
       "      <th>product_name</th>\n",
       "      <th>...</th>\n",
       "      <th>age</th>\n",
       "      <th>date_joined</th>\n",
       "      <th>number_of_dependants</th>\n",
       "      <th>marital_status</th>\n",
       "      <th>income</th>\n",
       "      <th>region</th>\n",
       "      <th>activity_flag</th>\n",
       "      <th>income_group</th>\n",
       "      <th>age_group</th>\n",
       "      <th>dependants_flag</th>\n",
       "    </tr>\n",
       "  </thead>\n",
       "  <tbody>\n",
       "    <tr>\n",
       "      <th>0</th>\n",
       "      <td>2539329</td>\n",
       "      <td>1</td>\n",
       "      <td>1</td>\n",
       "      <td>2</td>\n",
       "      <td>8</td>\n",
       "      <td>NaN</td>\n",
       "      <td>196</td>\n",
       "      <td>1</td>\n",
       "      <td>0</td>\n",
       "      <td>Soda</td>\n",
       "      <td>...</td>\n",
       "      <td>31</td>\n",
       "      <td>2/17/2019</td>\n",
       "      <td>3</td>\n",
       "      <td>married</td>\n",
       "      <td>40423</td>\n",
       "      <td>South</td>\n",
       "      <td>High-activity Customer</td>\n",
       "      <td>low-income</td>\n",
       "      <td>adult</td>\n",
       "      <td>Yes Dependants</td>\n",
       "    </tr>\n",
       "    <tr>\n",
       "      <th>1</th>\n",
       "      <td>2539329</td>\n",
       "      <td>1</td>\n",
       "      <td>1</td>\n",
       "      <td>2</td>\n",
       "      <td>8</td>\n",
       "      <td>NaN</td>\n",
       "      <td>14084</td>\n",
       "      <td>2</td>\n",
       "      <td>0</td>\n",
       "      <td>Organic Unsweetened Vanilla Almond Milk</td>\n",
       "      <td>...</td>\n",
       "      <td>31</td>\n",
       "      <td>2/17/2019</td>\n",
       "      <td>3</td>\n",
       "      <td>married</td>\n",
       "      <td>40423</td>\n",
       "      <td>South</td>\n",
       "      <td>High-activity Customer</td>\n",
       "      <td>low-income</td>\n",
       "      <td>adult</td>\n",
       "      <td>Yes Dependants</td>\n",
       "    </tr>\n",
       "    <tr>\n",
       "      <th>2</th>\n",
       "      <td>2539329</td>\n",
       "      <td>1</td>\n",
       "      <td>1</td>\n",
       "      <td>2</td>\n",
       "      <td>8</td>\n",
       "      <td>NaN</td>\n",
       "      <td>12427</td>\n",
       "      <td>3</td>\n",
       "      <td>0</td>\n",
       "      <td>Original Beef Jerky</td>\n",
       "      <td>...</td>\n",
       "      <td>31</td>\n",
       "      <td>2/17/2019</td>\n",
       "      <td>3</td>\n",
       "      <td>married</td>\n",
       "      <td>40423</td>\n",
       "      <td>South</td>\n",
       "      <td>High-activity Customer</td>\n",
       "      <td>low-income</td>\n",
       "      <td>adult</td>\n",
       "      <td>Yes Dependants</td>\n",
       "    </tr>\n",
       "    <tr>\n",
       "      <th>3</th>\n",
       "      <td>2539329</td>\n",
       "      <td>1</td>\n",
       "      <td>1</td>\n",
       "      <td>2</td>\n",
       "      <td>8</td>\n",
       "      <td>NaN</td>\n",
       "      <td>26088</td>\n",
       "      <td>4</td>\n",
       "      <td>0</td>\n",
       "      <td>Aged White Cheddar Popcorn</td>\n",
       "      <td>...</td>\n",
       "      <td>31</td>\n",
       "      <td>2/17/2019</td>\n",
       "      <td>3</td>\n",
       "      <td>married</td>\n",
       "      <td>40423</td>\n",
       "      <td>South</td>\n",
       "      <td>High-activity Customer</td>\n",
       "      <td>low-income</td>\n",
       "      <td>adult</td>\n",
       "      <td>Yes Dependants</td>\n",
       "    </tr>\n",
       "    <tr>\n",
       "      <th>4</th>\n",
       "      <td>2539329</td>\n",
       "      <td>1</td>\n",
       "      <td>1</td>\n",
       "      <td>2</td>\n",
       "      <td>8</td>\n",
       "      <td>NaN</td>\n",
       "      <td>26405</td>\n",
       "      <td>5</td>\n",
       "      <td>0</td>\n",
       "      <td>XL Pick-A-Size Paper Towel Rolls</td>\n",
       "      <td>...</td>\n",
       "      <td>31</td>\n",
       "      <td>2/17/2019</td>\n",
       "      <td>3</td>\n",
       "      <td>married</td>\n",
       "      <td>40423</td>\n",
       "      <td>South</td>\n",
       "      <td>High-activity Customer</td>\n",
       "      <td>low-income</td>\n",
       "      <td>adult</td>\n",
       "      <td>Yes Dependants</td>\n",
       "    </tr>\n",
       "    <tr>\n",
       "      <th>...</th>\n",
       "      <td>...</td>\n",
       "      <td>...</td>\n",
       "      <td>...</td>\n",
       "      <td>...</td>\n",
       "      <td>...</td>\n",
       "      <td>...</td>\n",
       "      <td>...</td>\n",
       "      <td>...</td>\n",
       "      <td>...</td>\n",
       "      <td>...</td>\n",
       "      <td>...</td>\n",
       "      <td>...</td>\n",
       "      <td>...</td>\n",
       "      <td>...</td>\n",
       "      <td>...</td>\n",
       "      <td>...</td>\n",
       "      <td>...</td>\n",
       "      <td>...</td>\n",
       "      <td>...</td>\n",
       "      <td>...</td>\n",
       "      <td>...</td>\n",
       "    </tr>\n",
       "    <tr>\n",
       "      <th>32404854</th>\n",
       "      <td>2977660</td>\n",
       "      <td>206209</td>\n",
       "      <td>13</td>\n",
       "      <td>1</td>\n",
       "      <td>12</td>\n",
       "      <td>7.0</td>\n",
       "      <td>14197</td>\n",
       "      <td>5</td>\n",
       "      <td>1</td>\n",
       "      <td>Tomato Paste</td>\n",
       "      <td>...</td>\n",
       "      <td>74</td>\n",
       "      <td>9/14/2019</td>\n",
       "      <td>3</td>\n",
       "      <td>married</td>\n",
       "      <td>137969</td>\n",
       "      <td>Midwest</td>\n",
       "      <td>High-activity Customer</td>\n",
       "      <td>middle-income</td>\n",
       "      <td>senior</td>\n",
       "      <td>Yes Dependants</td>\n",
       "    </tr>\n",
       "    <tr>\n",
       "      <th>32404855</th>\n",
       "      <td>2977660</td>\n",
       "      <td>206209</td>\n",
       "      <td>13</td>\n",
       "      <td>1</td>\n",
       "      <td>12</td>\n",
       "      <td>7.0</td>\n",
       "      <td>38730</td>\n",
       "      <td>6</td>\n",
       "      <td>0</td>\n",
       "      <td>Brownie Crunch High Protein Bar</td>\n",
       "      <td>...</td>\n",
       "      <td>74</td>\n",
       "      <td>9/14/2019</td>\n",
       "      <td>3</td>\n",
       "      <td>married</td>\n",
       "      <td>137969</td>\n",
       "      <td>Midwest</td>\n",
       "      <td>High-activity Customer</td>\n",
       "      <td>middle-income</td>\n",
       "      <td>senior</td>\n",
       "      <td>Yes Dependants</td>\n",
       "    </tr>\n",
       "    <tr>\n",
       "      <th>32404856</th>\n",
       "      <td>2977660</td>\n",
       "      <td>206209</td>\n",
       "      <td>13</td>\n",
       "      <td>1</td>\n",
       "      <td>12</td>\n",
       "      <td>7.0</td>\n",
       "      <td>31477</td>\n",
       "      <td>7</td>\n",
       "      <td>0</td>\n",
       "      <td>High Protein Bar Chunky Peanut Butter</td>\n",
       "      <td>...</td>\n",
       "      <td>74</td>\n",
       "      <td>9/14/2019</td>\n",
       "      <td>3</td>\n",
       "      <td>married</td>\n",
       "      <td>137969</td>\n",
       "      <td>Midwest</td>\n",
       "      <td>High-activity Customer</td>\n",
       "      <td>middle-income</td>\n",
       "      <td>senior</td>\n",
       "      <td>Yes Dependants</td>\n",
       "    </tr>\n",
       "    <tr>\n",
       "      <th>32404857</th>\n",
       "      <td>2977660</td>\n",
       "      <td>206209</td>\n",
       "      <td>13</td>\n",
       "      <td>1</td>\n",
       "      <td>12</td>\n",
       "      <td>7.0</td>\n",
       "      <td>6567</td>\n",
       "      <td>8</td>\n",
       "      <td>0</td>\n",
       "      <td>Chocolate Peanut Butter Protein Bar</td>\n",
       "      <td>...</td>\n",
       "      <td>74</td>\n",
       "      <td>9/14/2019</td>\n",
       "      <td>3</td>\n",
       "      <td>married</td>\n",
       "      <td>137969</td>\n",
       "      <td>Midwest</td>\n",
       "      <td>High-activity Customer</td>\n",
       "      <td>middle-income</td>\n",
       "      <td>senior</td>\n",
       "      <td>Yes Dependants</td>\n",
       "    </tr>\n",
       "    <tr>\n",
       "      <th>32404858</th>\n",
       "      <td>2977660</td>\n",
       "      <td>206209</td>\n",
       "      <td>13</td>\n",
       "      <td>1</td>\n",
       "      <td>12</td>\n",
       "      <td>7.0</td>\n",
       "      <td>22920</td>\n",
       "      <td>9</td>\n",
       "      <td>0</td>\n",
       "      <td>Roasted &amp; Salted Shelled Pistachios</td>\n",
       "      <td>...</td>\n",
       "      <td>74</td>\n",
       "      <td>9/14/2019</td>\n",
       "      <td>3</td>\n",
       "      <td>married</td>\n",
       "      <td>137969</td>\n",
       "      <td>Midwest</td>\n",
       "      <td>High-activity Customer</td>\n",
       "      <td>middle-income</td>\n",
       "      <td>senior</td>\n",
       "      <td>Yes Dependants</td>\n",
       "    </tr>\n",
       "  </tbody>\n",
       "</table>\n",
       "<p>30964564 rows × 37 columns</p>\n",
       "</div>"
      ],
      "text/plain": [
       "         order_id user_id  order_number  orders_day_of_week  \\\n",
       "0         2539329       1             1                   2   \n",
       "1         2539329       1             1                   2   \n",
       "2         2539329       1             1                   2   \n",
       "3         2539329       1             1                   2   \n",
       "4         2539329       1             1                   2   \n",
       "...           ...     ...           ...                 ...   \n",
       "32404854  2977660  206209            13                   1   \n",
       "32404855  2977660  206209            13                   1   \n",
       "32404856  2977660  206209            13                   1   \n",
       "32404857  2977660  206209            13                   1   \n",
       "32404858  2977660  206209            13                   1   \n",
       "\n",
       "          order_time_of_day  days_since_prior_order product_id  \\\n",
       "0                         8                     NaN        196   \n",
       "1                         8                     NaN      14084   \n",
       "2                         8                     NaN      12427   \n",
       "3                         8                     NaN      26088   \n",
       "4                         8                     NaN      26405   \n",
       "...                     ...                     ...        ...   \n",
       "32404854                 12                     7.0      14197   \n",
       "32404855                 12                     7.0      38730   \n",
       "32404856                 12                     7.0      31477   \n",
       "32404857                 12                     7.0       6567   \n",
       "32404858                 12                     7.0      22920   \n",
       "\n",
       "          add_to_cart_order  reordered  \\\n",
       "0                         1          0   \n",
       "1                         2          0   \n",
       "2                         3          0   \n",
       "3                         4          0   \n",
       "4                         5          0   \n",
       "...                     ...        ...   \n",
       "32404854                  5          1   \n",
       "32404855                  6          0   \n",
       "32404856                  7          0   \n",
       "32404857                  8          0   \n",
       "32404858                  9          0   \n",
       "\n",
       "                                     product_name  ... age date_joined  \\\n",
       "0                                            Soda  ...  31   2/17/2019   \n",
       "1         Organic Unsweetened Vanilla Almond Milk  ...  31   2/17/2019   \n",
       "2                             Original Beef Jerky  ...  31   2/17/2019   \n",
       "3                      Aged White Cheddar Popcorn  ...  31   2/17/2019   \n",
       "4                XL Pick-A-Size Paper Towel Rolls  ...  31   2/17/2019   \n",
       "...                                           ...  ...  ..         ...   \n",
       "32404854                             Tomato Paste  ...  74   9/14/2019   \n",
       "32404855          Brownie Crunch High Protein Bar  ...  74   9/14/2019   \n",
       "32404856    High Protein Bar Chunky Peanut Butter  ...  74   9/14/2019   \n",
       "32404857      Chocolate Peanut Butter Protein Bar  ...  74   9/14/2019   \n",
       "32404858      Roasted & Salted Shelled Pistachios  ...  74   9/14/2019   \n",
       "\n",
       "          number_of_dependants marital_status  income   region  \\\n",
       "0                            3        married   40423    South   \n",
       "1                            3        married   40423    South   \n",
       "2                            3        married   40423    South   \n",
       "3                            3        married   40423    South   \n",
       "4                            3        married   40423    South   \n",
       "...                        ...            ...     ...      ...   \n",
       "32404854                     3        married  137969  Midwest   \n",
       "32404855                     3        married  137969  Midwest   \n",
       "32404856                     3        married  137969  Midwest   \n",
       "32404857                     3        married  137969  Midwest   \n",
       "32404858                     3        married  137969  Midwest   \n",
       "\n",
       "                   activity_flag   income_group  age_group dependants_flag  \n",
       "0         High-activity Customer     low-income      adult  Yes Dependants  \n",
       "1         High-activity Customer     low-income      adult  Yes Dependants  \n",
       "2         High-activity Customer     low-income      adult  Yes Dependants  \n",
       "3         High-activity Customer     low-income      adult  Yes Dependants  \n",
       "4         High-activity Customer     low-income      adult  Yes Dependants  \n",
       "...                          ...            ...        ...             ...  \n",
       "32404854  High-activity Customer  middle-income     senior  Yes Dependants  \n",
       "32404855  High-activity Customer  middle-income     senior  Yes Dependants  \n",
       "32404856  High-activity Customer  middle-income     senior  Yes Dependants  \n",
       "32404857  High-activity Customer  middle-income     senior  Yes Dependants  \n",
       "32404858  High-activity Customer  middle-income     senior  Yes Dependants  \n",
       "\n",
       "[30964564 rows x 37 columns]"
      ]
     },
     "execution_count": 4,
     "metadata": {},
     "output_type": "execute_result"
    }
   ],
   "source": [
    "df_cop.drop(columns='_merge')"
   ]
  },
  {
   "cell_type": "code",
   "execution_count": 8,
   "id": "d67e8f20-4a92-4d55-a9c6-98017de0fd0b",
   "metadata": {},
   "outputs": [
    {
     "data": {
      "text/plain": [
       "Index(['order_id', 'user_id', 'order_number', 'orders_day_of_week',\n",
       "       'order_time_of_day', 'days_since_prior_order', 'product_id',\n",
       "       'add_to_cart_order', 'reordered', 'product_name', 'aisle_id',\n",
       "       'department_id', 'prices', 'price_range_loc', 'prices_range_loc',\n",
       "       'busiest_day', 'busiest_days', 'busiest_period_of_day', 'max_order',\n",
       "       'loyalty_flag', 'average_price', 'spending_flag', 'frequency_flag',\n",
       "       'first_name', 'last_name', 'gender', 'state', 'age', 'date_joined',\n",
       "       'number_of_dependants', 'marital_status', 'income', '_merge', 'region',\n",
       "       'activity_flag', 'income_group', 'age_group', 'dependants_flag'],\n",
       "      dtype='object')"
      ]
     },
     "execution_count": 8,
     "metadata": {},
     "output_type": "execute_result"
    }
   ],
   "source": [
    "#Checking so see if _merge column was dropped\n",
    "df_cop.columns"
   ]
  },
  {
   "cell_type": "code",
   "execution_count": 9,
   "id": "ba0cb1ea-e9a9-4278-bb71-57ed33ffac22",
   "metadata": {},
   "outputs": [],
   "source": [
    "# Save revised data set.\n",
    "df_cop.to_pickle(os.path.join(path, '02 Data', 'Prepared Data', 'df_cop4.pkl'))"
   ]
  },
  {
   "cell_type": "markdown",
   "id": "50f3b492-4e13-4708-aca2-e893514ec229",
   "metadata": {},
   "source": [
    "### Import departments dataframe and merge with df_cop"
   ]
  },
  {
   "cell_type": "code",
   "execution_count": 3,
   "id": "11aeed69-07f1-4a3d-96cb-982487793792",
   "metadata": {},
   "outputs": [],
   "source": [
    "# Import departments_wrangled df\n",
    "departments=pd.read_csv(os.path.join(path, '02 Data', 'Prepared Data', 'departments_wrangled.csv'))"
   ]
  },
  {
   "cell_type": "code",
   "execution_count": 11,
   "id": "a9df6894-c86a-43d3-bece-9b2e1f55eb48",
   "metadata": {},
   "outputs": [
    {
     "data": {
      "text/plain": [
       "Index(['Unnamed: 0', 'department'], dtype='object')"
      ]
     },
     "execution_count": 11,
     "metadata": {},
     "output_type": "execute_result"
    }
   ],
   "source": [
    "# Check departments df columns\n",
    "departments.columns"
   ]
  },
  {
   "cell_type": "code",
   "execution_count": 4,
   "id": "39089a37-fbb8-4370-a803-f2a06c2c4807",
   "metadata": {},
   "outputs": [],
   "source": [
    "# Change 'Unnamed:0' to 'department_id'\n",
    "departments.rename(columns = {'Unnamed: 0' : 'department_id'}, inplace=True)"
   ]
  },
  {
   "cell_type": "code",
   "execution_count": 13,
   "id": "7c9d27f3-837d-4d35-b8e1-5cbb90816bb0",
   "metadata": {},
   "outputs": [
    {
     "data": {
      "text/html": [
       "<div>\n",
       "<style scoped>\n",
       "    .dataframe tbody tr th:only-of-type {\n",
       "        vertical-align: middle;\n",
       "    }\n",
       "\n",
       "    .dataframe tbody tr th {\n",
       "        vertical-align: top;\n",
       "    }\n",
       "\n",
       "    .dataframe thead th {\n",
       "        text-align: right;\n",
       "    }\n",
       "</style>\n",
       "<table border=\"1\" class=\"dataframe\">\n",
       "  <thead>\n",
       "    <tr style=\"text-align: right;\">\n",
       "      <th></th>\n",
       "      <th>department_id</th>\n",
       "      <th>department</th>\n",
       "    </tr>\n",
       "  </thead>\n",
       "  <tbody>\n",
       "    <tr>\n",
       "      <th>0</th>\n",
       "      <td>1</td>\n",
       "      <td>frozen</td>\n",
       "    </tr>\n",
       "    <tr>\n",
       "      <th>1</th>\n",
       "      <td>2</td>\n",
       "      <td>other</td>\n",
       "    </tr>\n",
       "    <tr>\n",
       "      <th>2</th>\n",
       "      <td>3</td>\n",
       "      <td>bakery</td>\n",
       "    </tr>\n",
       "    <tr>\n",
       "      <th>3</th>\n",
       "      <td>4</td>\n",
       "      <td>produce</td>\n",
       "    </tr>\n",
       "    <tr>\n",
       "      <th>4</th>\n",
       "      <td>5</td>\n",
       "      <td>alcohol</td>\n",
       "    </tr>\n",
       "    <tr>\n",
       "      <th>5</th>\n",
       "      <td>6</td>\n",
       "      <td>international</td>\n",
       "    </tr>\n",
       "    <tr>\n",
       "      <th>6</th>\n",
       "      <td>7</td>\n",
       "      <td>beverages</td>\n",
       "    </tr>\n",
       "    <tr>\n",
       "      <th>7</th>\n",
       "      <td>8</td>\n",
       "      <td>pets</td>\n",
       "    </tr>\n",
       "    <tr>\n",
       "      <th>8</th>\n",
       "      <td>9</td>\n",
       "      <td>dry goods pasta</td>\n",
       "    </tr>\n",
       "    <tr>\n",
       "      <th>9</th>\n",
       "      <td>10</td>\n",
       "      <td>bulk</td>\n",
       "    </tr>\n",
       "    <tr>\n",
       "      <th>10</th>\n",
       "      <td>11</td>\n",
       "      <td>personal care</td>\n",
       "    </tr>\n",
       "    <tr>\n",
       "      <th>11</th>\n",
       "      <td>12</td>\n",
       "      <td>meat seafood</td>\n",
       "    </tr>\n",
       "    <tr>\n",
       "      <th>12</th>\n",
       "      <td>13</td>\n",
       "      <td>pantry</td>\n",
       "    </tr>\n",
       "    <tr>\n",
       "      <th>13</th>\n",
       "      <td>14</td>\n",
       "      <td>breakfast</td>\n",
       "    </tr>\n",
       "    <tr>\n",
       "      <th>14</th>\n",
       "      <td>15</td>\n",
       "      <td>canned goods</td>\n",
       "    </tr>\n",
       "    <tr>\n",
       "      <th>15</th>\n",
       "      <td>16</td>\n",
       "      <td>dairy eggs</td>\n",
       "    </tr>\n",
       "    <tr>\n",
       "      <th>16</th>\n",
       "      <td>17</td>\n",
       "      <td>household</td>\n",
       "    </tr>\n",
       "    <tr>\n",
       "      <th>17</th>\n",
       "      <td>18</td>\n",
       "      <td>babies</td>\n",
       "    </tr>\n",
       "    <tr>\n",
       "      <th>18</th>\n",
       "      <td>19</td>\n",
       "      <td>snacks</td>\n",
       "    </tr>\n",
       "    <tr>\n",
       "      <th>19</th>\n",
       "      <td>20</td>\n",
       "      <td>deli</td>\n",
       "    </tr>\n",
       "    <tr>\n",
       "      <th>20</th>\n",
       "      <td>21</td>\n",
       "      <td>missing</td>\n",
       "    </tr>\n",
       "  </tbody>\n",
       "</table>\n",
       "</div>"
      ],
      "text/plain": [
       "    department_id       department\n",
       "0               1           frozen\n",
       "1               2            other\n",
       "2               3           bakery\n",
       "3               4          produce\n",
       "4               5          alcohol\n",
       "5               6    international\n",
       "6               7        beverages\n",
       "7               8             pets\n",
       "8               9  dry goods pasta\n",
       "9              10             bulk\n",
       "10             11    personal care\n",
       "11             12     meat seafood\n",
       "12             13           pantry\n",
       "13             14        breakfast\n",
       "14             15     canned goods\n",
       "15             16       dairy eggs\n",
       "16             17        household\n",
       "17             18           babies\n",
       "18             19           snacks\n",
       "19             20             deli\n",
       "20             21          missing"
      ]
     },
     "execution_count": 13,
     "metadata": {},
     "output_type": "execute_result"
    }
   ],
   "source": [
    "# Check column name change \n",
    "departments"
   ]
  },
  {
   "cell_type": "code",
   "execution_count": 17,
   "id": "5bc55766-0c98-4c05-93d7-cf38577cf1b2",
   "metadata": {},
   "outputs": [
    {
     "data": {
      "text/plain": [
       "department_id     int64\n",
       "department       object\n",
       "dtype: object"
      ]
     },
     "execution_count": 17,
     "metadata": {},
     "output_type": "execute_result"
    }
   ],
   "source": [
    "departments.dtypes"
   ]
  },
  {
   "cell_type": "code",
   "execution_count": 5,
   "id": "aef3c367-9d97-4b81-9325-beaf5422faaf",
   "metadata": {},
   "outputs": [],
   "source": [
    "# Changing departments 'department_id' to object\n",
    "departments['department_id'] = departments['department_id'].astype('str')"
   ]
  },
  {
   "cell_type": "code",
   "execution_count": 19,
   "id": "ec548c6f-6c5a-4814-a882-67e612443224",
   "metadata": {},
   "outputs": [
    {
     "data": {
      "text/plain": [
       "department_id    object\n",
       "department       object\n",
       "dtype: object"
      ]
     },
     "execution_count": 19,
     "metadata": {},
     "output_type": "execute_result"
    }
   ],
   "source": [
    "# Check reult\n",
    "departments.dtypes"
   ]
  },
  {
   "cell_type": "code",
   "execution_count": 7,
   "id": "15f42af1-1b74-4d66-a20c-bcf631c4de38",
   "metadata": {},
   "outputs": [],
   "source": [
    "# Use department_id to merge df_cop and departments dataframes\n",
    "df_merge = df_cop.merge(departments, on='department_id', indicator='created')"
   ]
  },
  {
   "cell_type": "code",
   "execution_count": 8,
   "id": "22142639-d5bc-46ca-ac1c-7fe2d3e22c79",
   "metadata": {},
   "outputs": [],
   "source": [
    "# Save revised dataframe\n",
    "df_merge.to_pickle(os.path.join(path, '02 Data', 'Prepared Data', 'df_cop_dept.pkl'))"
   ]
  },
  {
   "cell_type": "code",
   "execution_count": 10,
   "id": "619314a3-07e0-4099-883c-422c988137ce",
   "metadata": {},
   "outputs": [
    {
     "data": {
      "text/plain": [
       "(30964564, 40)"
      ]
     },
     "execution_count": 10,
     "metadata": {},
     "output_type": "execute_result"
    }
   ],
   "source": [
    "df_merge.shape"
   ]
  },
  {
   "cell_type": "code",
   "execution_count": 11,
   "id": "e727da2e-d0fd-41c4-8fa4-dd970c3ef2a3",
   "metadata": {},
   "outputs": [
    {
     "data": {
      "text/plain": [
       "Index(['order_id', 'user_id', 'order_number', 'orders_day_of_week',\n",
       "       'order_time_of_day', 'days_since_prior_order', 'product_id',\n",
       "       'add_to_cart_order', 'reordered', 'product_name', 'aisle_id',\n",
       "       'department_id', 'prices', 'price_range_loc', 'prices_range_loc',\n",
       "       'busiest_day', 'busiest_days', 'busiest_period_of_day', 'max_order',\n",
       "       'loyalty_flag', 'average_price', 'spending_flag', 'frequency_flag',\n",
       "       'first_name', 'last_name', 'gender', 'state', 'age', 'date_joined',\n",
       "       'number_of_dependants', 'marital_status', 'income', '_merge', 'region',\n",
       "       'activity_flag', 'income_group', 'age_group', 'dependants_flag',\n",
       "       'department', 'created'],\n",
       "      dtype='object')"
      ]
     },
     "execution_count": 11,
     "metadata": {},
     "output_type": "execute_result"
    }
   ],
   "source": [
    "df_merge.columns"
   ]
  },
  {
   "cell_type": "code",
   "execution_count": 21,
   "id": "948794c4-b3a3-4e29-98f0-92e4cb52b788",
   "metadata": {},
   "outputs": [
    {
     "data": {
      "text/plain": [
       "price_range_loc\n",
       "Mid-range product     20891771\n",
       "NaN                    9674840\n",
       "High-range product      397953\n",
       "Name: count, dtype: int64"
      ]
     },
     "execution_count": 21,
     "metadata": {},
     "output_type": "execute_result"
    }
   ],
   "source": [
    "df_merge['price_range_loc'].value_counts(dropna=False)"
   ]
  },
  {
   "cell_type": "code",
   "execution_count": 16,
   "id": "1c4541cc-02ae-4e07-b567-9b40b3f7d93d",
   "metadata": {},
   "outputs": [
    {
     "data": {
      "text/plain": [
       "order_id                    object\n",
       "user_id                     object\n",
       "order_number                 int64\n",
       "orders_day_of_week           int64\n",
       "order_time_of_day            int64\n",
       "days_since_prior_order     float64\n",
       "product_id                  object\n",
       "add_to_cart_order            int64\n",
       "reordered                    int64\n",
       "product_name                object\n",
       "aisle_id                    object\n",
       "department_id               object\n",
       "prices                     float64\n",
       "price_range_loc             object\n",
       "prices_range_loc            object\n",
       "busiest_day                 object\n",
       "busiest_days                object\n",
       "busiest_period_of_day       object\n",
       "max_order                    int64\n",
       "loyalty_flag                object\n",
       "average_price              float64\n",
       "spending_flag               object\n",
       "frequency_flag              object\n",
       "first_name                  object\n",
       "last_name                   object\n",
       "gender                      object\n",
       "state                       object\n",
       "age                          int64\n",
       "date_joined                 object\n",
       "number_of_dependants         int64\n",
       "marital_status              object\n",
       "income                       int64\n",
       "_merge                    category\n",
       "region                      object\n",
       "activity_flag               object\n",
       "income_group                object\n",
       "age_group                   object\n",
       "dependants_flag             object\n",
       "department                  object\n",
       "created                   category\n",
       "dtype: object"
      ]
     },
     "execution_count": 16,
     "metadata": {},
     "output_type": "execute_result"
    }
   ],
   "source": [
    "df_merge.dtypes"
   ]
  },
  {
   "cell_type": "markdown",
   "id": "53941c33-f896-493d-a0a8-0007098ff7ca",
   "metadata": {},
   "source": [
    "### Number 7 - Aggregate the max, mean, and min variables on a customer profile level for usage frequency and expenditure"
   ]
  },
  {
   "cell_type": "code",
   "execution_count": 27,
   "id": "d78b1a62-eb53-40fa-b00a-a3aba8d99a44",
   "metadata": {},
   "outputs": [],
   "source": [
    "# Create an aggregated subset with the sum of each order\n",
    "df_profile = df_merge.groupby(['user_id','order_number','price_range_loc','loyalty_flag','spending_flag','activity_flag','frequency_flag','region','gender','age_group','income_group','marital_status','dependants_flag','days_since_prior_order'],as_index=False)['prices'].sum(numeric_only=True)"
   ]
  },
  {
   "cell_type": "code",
   "execution_count": 28,
   "id": "28264216-10bb-497d-929d-4adbf8c04890",
   "metadata": {},
   "outputs": [
    {
     "data": {
      "text/plain": [
       "Index(['user_id', 'order_number', 'price_range_loc', 'loyalty_flag',\n",
       "       'spending_flag', 'activity_flag', 'frequency_flag', 'region', 'gender',\n",
       "       'age_group', 'income_group', 'marital_status', 'dependants_flag',\n",
       "       'days_since_prior_order', 'prices'],\n",
       "      dtype='object')"
      ]
     },
     "execution_count": 28,
     "metadata": {},
     "output_type": "execute_result"
    }
   ],
   "source": [
    "# Check result\n",
    "df_profile.columns"
   ]
  },
  {
   "cell_type": "code",
   "execution_count": 26,
   "id": "8e4c5396-4e2a-440e-8409-0398abfe54f7",
   "metadata": {},
   "outputs": [
    {
     "data": {
      "text/html": [
       "<div>\n",
       "<style scoped>\n",
       "    .dataframe tbody tr th:only-of-type {\n",
       "        vertical-align: middle;\n",
       "    }\n",
       "\n",
       "    .dataframe tbody tr th {\n",
       "        vertical-align: top;\n",
       "    }\n",
       "\n",
       "    .dataframe thead tr th {\n",
       "        text-align: left;\n",
       "    }\n",
       "\n",
       "    .dataframe thead tr:last-of-type th {\n",
       "        text-align: right;\n",
       "    }\n",
       "</style>\n",
       "<table border=\"1\" class=\"dataframe\">\n",
       "  <thead>\n",
       "    <tr>\n",
       "      <th></th>\n",
       "      <th colspan=\"3\" halign=\"left\">days_since_prior_order</th>\n",
       "      <th colspan=\"3\" halign=\"left\">prices</th>\n",
       "    </tr>\n",
       "    <tr>\n",
       "      <th></th>\n",
       "      <th>max</th>\n",
       "      <th>min</th>\n",
       "      <th>mean</th>\n",
       "      <th>max</th>\n",
       "      <th>min</th>\n",
       "      <th>mean</th>\n",
       "    </tr>\n",
       "    <tr>\n",
       "      <th>age_group</th>\n",
       "      <th></th>\n",
       "      <th></th>\n",
       "      <th></th>\n",
       "      <th></th>\n",
       "      <th></th>\n",
       "      <th></th>\n",
       "    </tr>\n",
       "  </thead>\n",
       "  <tbody>\n",
       "    <tr>\n",
       "      <th>adult</th>\n",
       "      <td>30.0</td>\n",
       "      <td>0.0</td>\n",
       "      <td>9.200868</td>\n",
       "      <td>718.1</td>\n",
       "      <td>0.0</td>\n",
       "      <td>63.838109</td>\n",
       "    </tr>\n",
       "    <tr>\n",
       "      <th>middle-aged</th>\n",
       "      <td>30.0</td>\n",
       "      <td>0.0</td>\n",
       "      <td>9.175671</td>\n",
       "      <td>762.4</td>\n",
       "      <td>0.0</td>\n",
       "      <td>63.043371</td>\n",
       "    </tr>\n",
       "    <tr>\n",
       "      <th>senior</th>\n",
       "      <td>30.0</td>\n",
       "      <td>0.0</td>\n",
       "      <td>9.167616</td>\n",
       "      <td>651.1</td>\n",
       "      <td>0.0</td>\n",
       "      <td>63.226891</td>\n",
       "    </tr>\n",
       "    <tr>\n",
       "      <th>young adult</th>\n",
       "      <td>30.0</td>\n",
       "      <td>0.0</td>\n",
       "      <td>9.113174</td>\n",
       "      <td>728.3</td>\n",
       "      <td>0.0</td>\n",
       "      <td>63.147358</td>\n",
       "    </tr>\n",
       "  </tbody>\n",
       "</table>\n",
       "</div>"
      ],
      "text/plain": [
       "            days_since_prior_order                prices                \n",
       "                               max  min      mean    max  min       mean\n",
       "age_group                                                               \n",
       "adult                         30.0  0.0  9.200868  718.1  0.0  63.838109\n",
       "middle-aged                   30.0  0.0  9.175671  762.4  0.0  63.043371\n",
       "senior                        30.0  0.0  9.167616  651.1  0.0  63.226891\n",
       "young adult                   30.0  0.0  9.113174  728.3  0.0  63.147358"
      ]
     },
     "execution_count": 26,
     "metadata": {},
     "output_type": "execute_result"
    }
   ],
   "source": [
    "# Usage frequency and expenditure by age group\n",
    "df_profile.groupby('age_group').agg({'days_since_prior_order':['max', 'min', 'mean'], 'prices': ['max', 'min', 'mean']})"
   ]
  },
  {
   "cell_type": "code",
   "execution_count": 31,
   "id": "74539a71-b7a1-4669-adef-e9c8622a29cb",
   "metadata": {},
   "outputs": [
    {
     "data": {
      "text/html": [
       "<div>\n",
       "<style scoped>\n",
       "    .dataframe tbody tr th:only-of-type {\n",
       "        vertical-align: middle;\n",
       "    }\n",
       "\n",
       "    .dataframe tbody tr th {\n",
       "        vertical-align: top;\n",
       "    }\n",
       "\n",
       "    .dataframe thead tr th {\n",
       "        text-align: left;\n",
       "    }\n",
       "\n",
       "    .dataframe thead tr:last-of-type th {\n",
       "        text-align: right;\n",
       "    }\n",
       "</style>\n",
       "<table border=\"1\" class=\"dataframe\">\n",
       "  <thead>\n",
       "    <tr>\n",
       "      <th></th>\n",
       "      <th colspan=\"3\" halign=\"left\">days_since_prior_order</th>\n",
       "      <th colspan=\"3\" halign=\"left\">prices</th>\n",
       "    </tr>\n",
       "    <tr>\n",
       "      <th></th>\n",
       "      <th>max</th>\n",
       "      <th>min</th>\n",
       "      <th>mean</th>\n",
       "      <th>max</th>\n",
       "      <th>min</th>\n",
       "      <th>mean</th>\n",
       "    </tr>\n",
       "    <tr>\n",
       "      <th>income_group</th>\n",
       "      <th></th>\n",
       "      <th></th>\n",
       "      <th></th>\n",
       "      <th></th>\n",
       "      <th></th>\n",
       "      <th></th>\n",
       "    </tr>\n",
       "  </thead>\n",
       "  <tbody>\n",
       "    <tr>\n",
       "      <th>high-income</th>\n",
       "      <td>30.0</td>\n",
       "      <td>0.0</td>\n",
       "      <td>8.987924</td>\n",
       "      <td>569.1</td>\n",
       "      <td>0.0</td>\n",
       "      <td>65.658974</td>\n",
       "    </tr>\n",
       "    <tr>\n",
       "      <th>low-income</th>\n",
       "      <td>30.0</td>\n",
       "      <td>0.0</td>\n",
       "      <td>9.687204</td>\n",
       "      <td>728.3</td>\n",
       "      <td>5.1</td>\n",
       "      <td>48.635270</td>\n",
       "    </tr>\n",
       "    <tr>\n",
       "      <th>middle-income</th>\n",
       "      <td>30.0</td>\n",
       "      <td>0.0</td>\n",
       "      <td>9.094679</td>\n",
       "      <td>762.4</td>\n",
       "      <td>0.0</td>\n",
       "      <td>66.065140</td>\n",
       "    </tr>\n",
       "  </tbody>\n",
       "</table>\n",
       "</div>"
      ],
      "text/plain": [
       "              days_since_prior_order                prices                \n",
       "                                 max  min      mean    max  min       mean\n",
       "income_group                                                              \n",
       "high-income                     30.0  0.0  8.987924  569.1  0.0  65.658974\n",
       "low-income                      30.0  0.0  9.687204  728.3  5.1  48.635270\n",
       "middle-income                   30.0  0.0  9.094679  762.4  0.0  66.065140"
      ]
     },
     "execution_count": 31,
     "metadata": {},
     "output_type": "execute_result"
    }
   ],
   "source": [
    "# Usage frequency and expenditure by income group\n",
    "df_profile.groupby('income_group').agg({'days_since_prior_order': ['max', 'min', 'mean'], 'prices': ['max','min','mean']})"
   ]
  },
  {
   "cell_type": "code",
   "execution_count": 33,
   "id": "7d2be75a-a033-4cf7-8bec-12795acfc634",
   "metadata": {},
   "outputs": [
    {
     "data": {
      "text/html": [
       "<div>\n",
       "<style scoped>\n",
       "    .dataframe tbody tr th:only-of-type {\n",
       "        vertical-align: middle;\n",
       "    }\n",
       "\n",
       "    .dataframe tbody tr th {\n",
       "        vertical-align: top;\n",
       "    }\n",
       "\n",
       "    .dataframe thead tr th {\n",
       "        text-align: left;\n",
       "    }\n",
       "\n",
       "    .dataframe thead tr:last-of-type th {\n",
       "        text-align: right;\n",
       "    }\n",
       "</style>\n",
       "<table border=\"1\" class=\"dataframe\">\n",
       "  <thead>\n",
       "    <tr>\n",
       "      <th></th>\n",
       "      <th colspan=\"3\" halign=\"left\">days_since_prior_order</th>\n",
       "      <th colspan=\"3\" halign=\"left\">prices</th>\n",
       "    </tr>\n",
       "    <tr>\n",
       "      <th></th>\n",
       "      <th>max</th>\n",
       "      <th>min</th>\n",
       "      <th>mean</th>\n",
       "      <th>max</th>\n",
       "      <th>min</th>\n",
       "      <th>mean</th>\n",
       "    </tr>\n",
       "    <tr>\n",
       "      <th>dependants_flag</th>\n",
       "      <th></th>\n",
       "      <th></th>\n",
       "      <th></th>\n",
       "      <th></th>\n",
       "      <th></th>\n",
       "      <th></th>\n",
       "    </tr>\n",
       "  </thead>\n",
       "  <tbody>\n",
       "    <tr>\n",
       "      <th>No Dependants</th>\n",
       "      <td>30.0</td>\n",
       "      <td>0.0</td>\n",
       "      <td>9.153815</td>\n",
       "      <td>651.1</td>\n",
       "      <td>0.0</td>\n",
       "      <td>63.320489</td>\n",
       "    </tr>\n",
       "    <tr>\n",
       "      <th>Yes Dependants</th>\n",
       "      <td>30.0</td>\n",
       "      <td>0.0</td>\n",
       "      <td>9.179730</td>\n",
       "      <td>762.4</td>\n",
       "      <td>0.0</td>\n",
       "      <td>63.305579</td>\n",
       "    </tr>\n",
       "  </tbody>\n",
       "</table>\n",
       "</div>"
      ],
      "text/plain": [
       "                days_since_prior_order                prices                \n",
       "                                   max  min      mean    max  min       mean\n",
       "dependants_flag                                                             \n",
       "No Dependants                     30.0  0.0  9.153815  651.1  0.0  63.320489\n",
       "Yes Dependants                    30.0  0.0  9.179730  762.4  0.0  63.305579"
      ]
     },
     "execution_count": 33,
     "metadata": {},
     "output_type": "execute_result"
    }
   ],
   "source": [
    "# Usage frequency and expenditure by dependant status\n",
    "df_profile.groupby('dependants_flag').agg({'days_since_prior_order': ['max', 'min', 'mean'], 'prices': ['max', 'min', 'mean']})"
   ]
  },
  {
   "cell_type": "code",
   "execution_count": 34,
   "id": "a8e67736-efdc-4d5d-9692-fd6cb4ae6776",
   "metadata": {},
   "outputs": [
    {
     "data": {
      "text/html": [
       "<div>\n",
       "<style scoped>\n",
       "    .dataframe tbody tr th:only-of-type {\n",
       "        vertical-align: middle;\n",
       "    }\n",
       "\n",
       "    .dataframe tbody tr th {\n",
       "        vertical-align: top;\n",
       "    }\n",
       "\n",
       "    .dataframe thead tr th {\n",
       "        text-align: left;\n",
       "    }\n",
       "\n",
       "    .dataframe thead tr:last-of-type th {\n",
       "        text-align: right;\n",
       "    }\n",
       "</style>\n",
       "<table border=\"1\" class=\"dataframe\">\n",
       "  <thead>\n",
       "    <tr>\n",
       "      <th></th>\n",
       "      <th colspan=\"3\" halign=\"left\">days_since_prior_order</th>\n",
       "      <th colspan=\"3\" halign=\"left\">prices</th>\n",
       "    </tr>\n",
       "    <tr>\n",
       "      <th></th>\n",
       "      <th>max</th>\n",
       "      <th>min</th>\n",
       "      <th>mean</th>\n",
       "      <th>max</th>\n",
       "      <th>min</th>\n",
       "      <th>mean</th>\n",
       "    </tr>\n",
       "    <tr>\n",
       "      <th>loyalty_flag</th>\n",
       "      <th></th>\n",
       "      <th></th>\n",
       "      <th></th>\n",
       "      <th></th>\n",
       "      <th></th>\n",
       "      <th></th>\n",
       "    </tr>\n",
       "  </thead>\n",
       "  <tbody>\n",
       "    <tr>\n",
       "      <th>Loyal Customer</th>\n",
       "      <td>30.0</td>\n",
       "      <td>0.0</td>\n",
       "      <td>5.581477</td>\n",
       "      <td>728.3</td>\n",
       "      <td>0.0</td>\n",
       "      <td>63.360928</td>\n",
       "    </tr>\n",
       "    <tr>\n",
       "      <th>New Customer</th>\n",
       "      <td>30.0</td>\n",
       "      <td>0.0</td>\n",
       "      <td>17.818723</td>\n",
       "      <td>718.1</td>\n",
       "      <td>0.0</td>\n",
       "      <td>62.143547</td>\n",
       "    </tr>\n",
       "    <tr>\n",
       "      <th>Regualr Customer</th>\n",
       "      <td>30.0</td>\n",
       "      <td>0.0</td>\n",
       "      <td>10.303541</td>\n",
       "      <td>762.4</td>\n",
       "      <td>0.0</td>\n",
       "      <td>63.590292</td>\n",
       "    </tr>\n",
       "  </tbody>\n",
       "</table>\n",
       "</div>"
      ],
      "text/plain": [
       "                 days_since_prior_order                 prices                \n",
       "                                    max  min       mean    max  min       mean\n",
       "loyalty_flag                                                                  \n",
       "Loyal Customer                     30.0  0.0   5.581477  728.3  0.0  63.360928\n",
       "New Customer                       30.0  0.0  17.818723  718.1  0.0  62.143547\n",
       "Regualr Customer                   30.0  0.0  10.303541  762.4  0.0  63.590292"
      ]
     },
     "execution_count": 34,
     "metadata": {},
     "output_type": "execute_result"
    }
   ],
   "source": [
    "# Usage frequency and expenditure by loyalty status\n",
    "df_profile.groupby('loyalty_flag').agg({'days_since_prior_order': ['max', 'min', 'mean'], 'prices': ['max', 'min', 'mean']})"
   ]
  },
  {
   "cell_type": "code",
   "execution_count": 35,
   "id": "81fb7469-1bc0-41ef-9b6e-c2220acf45aa",
   "metadata": {},
   "outputs": [
    {
     "data": {
      "text/html": [
       "<div>\n",
       "<style scoped>\n",
       "    .dataframe tbody tr th:only-of-type {\n",
       "        vertical-align: middle;\n",
       "    }\n",
       "\n",
       "    .dataframe tbody tr th {\n",
       "        vertical-align: top;\n",
       "    }\n",
       "\n",
       "    .dataframe thead tr th {\n",
       "        text-align: left;\n",
       "    }\n",
       "\n",
       "    .dataframe thead tr:last-of-type th {\n",
       "        text-align: right;\n",
       "    }\n",
       "</style>\n",
       "<table border=\"1\" class=\"dataframe\">\n",
       "  <thead>\n",
       "    <tr>\n",
       "      <th></th>\n",
       "      <th colspan=\"3\" halign=\"left\">days_since_prior_order</th>\n",
       "      <th colspan=\"3\" halign=\"left\">prices</th>\n",
       "    </tr>\n",
       "    <tr>\n",
       "      <th></th>\n",
       "      <th>max</th>\n",
       "      <th>min</th>\n",
       "      <th>mean</th>\n",
       "      <th>max</th>\n",
       "      <th>min</th>\n",
       "      <th>mean</th>\n",
       "    </tr>\n",
       "    <tr>\n",
       "      <th>spending_flag</th>\n",
       "      <th></th>\n",
       "      <th></th>\n",
       "      <th></th>\n",
       "      <th></th>\n",
       "      <th></th>\n",
       "      <th></th>\n",
       "    </tr>\n",
       "  </thead>\n",
       "  <tbody>\n",
       "    <tr>\n",
       "      <th>High Spender</th>\n",
       "      <td>30.0</td>\n",
       "      <td>0.0</td>\n",
       "      <td>9.264833</td>\n",
       "      <td>605.3</td>\n",
       "      <td>0.0</td>\n",
       "      <td>55.031594</td>\n",
       "    </tr>\n",
       "    <tr>\n",
       "      <th>Low Spender</th>\n",
       "      <td>30.0</td>\n",
       "      <td>0.0</td>\n",
       "      <td>9.171032</td>\n",
       "      <td>762.4</td>\n",
       "      <td>5.1</td>\n",
       "      <td>63.511967</td>\n",
       "    </tr>\n",
       "  </tbody>\n",
       "</table>\n",
       "</div>"
      ],
      "text/plain": [
       "              days_since_prior_order                prices                \n",
       "                                 max  min      mean    max  min       mean\n",
       "spending_flag                                                             \n",
       "High Spender                    30.0  0.0  9.264833  605.3  0.0  55.031594\n",
       "Low Spender                     30.0  0.0  9.171032  762.4  5.1  63.511967"
      ]
     },
     "execution_count": 35,
     "metadata": {},
     "output_type": "execute_result"
    }
   ],
   "source": [
    "# Usage frequency and expenditure by spender type\n",
    "df_profile.groupby('spending_flag').agg({'days_since_prior_order': ['max', 'min', 'mean'], 'prices': ['max', 'min', 'mean']})"
   ]
  },
  {
   "cell_type": "code",
   "execution_count": 36,
   "id": "550172ba-62a3-400a-ac0a-c17e0d6f3e46",
   "metadata": {},
   "outputs": [
    {
     "data": {
      "text/html": [
       "<div>\n",
       "<style scoped>\n",
       "    .dataframe tbody tr th:only-of-type {\n",
       "        vertical-align: middle;\n",
       "    }\n",
       "\n",
       "    .dataframe tbody tr th {\n",
       "        vertical-align: top;\n",
       "    }\n",
       "\n",
       "    .dataframe thead tr th {\n",
       "        text-align: left;\n",
       "    }\n",
       "\n",
       "    .dataframe thead tr:last-of-type th {\n",
       "        text-align: right;\n",
       "    }\n",
       "</style>\n",
       "<table border=\"1\" class=\"dataframe\">\n",
       "  <thead>\n",
       "    <tr>\n",
       "      <th></th>\n",
       "      <th colspan=\"3\" halign=\"left\">days_since_prior_order</th>\n",
       "      <th colspan=\"3\" halign=\"left\">prices</th>\n",
       "    </tr>\n",
       "    <tr>\n",
       "      <th></th>\n",
       "      <th>max</th>\n",
       "      <th>min</th>\n",
       "      <th>mean</th>\n",
       "      <th>max</th>\n",
       "      <th>min</th>\n",
       "      <th>mean</th>\n",
       "    </tr>\n",
       "    <tr>\n",
       "      <th>region</th>\n",
       "      <th></th>\n",
       "      <th></th>\n",
       "      <th></th>\n",
       "      <th></th>\n",
       "      <th></th>\n",
       "      <th></th>\n",
       "    </tr>\n",
       "  </thead>\n",
       "  <tbody>\n",
       "    <tr>\n",
       "      <th>Midwest</th>\n",
       "      <td>30.0</td>\n",
       "      <td>0.0</td>\n",
       "      <td>9.246835</td>\n",
       "      <td>631.1</td>\n",
       "      <td>0.0</td>\n",
       "      <td>63.150413</td>\n",
       "    </tr>\n",
       "    <tr>\n",
       "      <th>Northeast</th>\n",
       "      <td>30.0</td>\n",
       "      <td>0.0</td>\n",
       "      <td>9.105938</td>\n",
       "      <td>634.3</td>\n",
       "      <td>0.0</td>\n",
       "      <td>63.242671</td>\n",
       "    </tr>\n",
       "    <tr>\n",
       "      <th>South</th>\n",
       "      <td>30.0</td>\n",
       "      <td>0.0</td>\n",
       "      <td>9.186107</td>\n",
       "      <td>762.4</td>\n",
       "      <td>0.0</td>\n",
       "      <td>63.323596</td>\n",
       "    </tr>\n",
       "    <tr>\n",
       "      <th>West</th>\n",
       "      <td>30.0</td>\n",
       "      <td>0.0</td>\n",
       "      <td>9.135628</td>\n",
       "      <td>650.8</td>\n",
       "      <td>0.0</td>\n",
       "      <td>63.481247</td>\n",
       "    </tr>\n",
       "  </tbody>\n",
       "</table>\n",
       "</div>"
      ],
      "text/plain": [
       "          days_since_prior_order                prices                \n",
       "                             max  min      mean    max  min       mean\n",
       "region                                                                \n",
       "Midwest                     30.0  0.0  9.246835  631.1  0.0  63.150413\n",
       "Northeast                   30.0  0.0  9.105938  634.3  0.0  63.242671\n",
       "South                       30.0  0.0  9.186107  762.4  0.0  63.323596\n",
       "West                        30.0  0.0  9.135628  650.8  0.0  63.481247"
      ]
     },
     "execution_count": 36,
     "metadata": {},
     "output_type": "execute_result"
    }
   ],
   "source": [
    "# Usage frequency and expenditure by region\n",
    "df_profile.groupby('region').agg({'days_since_prior_order': ['max', 'min', 'mean'], 'prices': ['max', 'min', 'mean']})"
   ]
  },
  {
   "cell_type": "code",
   "execution_count": 37,
   "id": "85e47913-6d37-41db-9a4c-23836e587e35",
   "metadata": {},
   "outputs": [
    {
     "data": {
      "text/html": [
       "<div>\n",
       "<style scoped>\n",
       "    .dataframe tbody tr th:only-of-type {\n",
       "        vertical-align: middle;\n",
       "    }\n",
       "\n",
       "    .dataframe tbody tr th {\n",
       "        vertical-align: top;\n",
       "    }\n",
       "\n",
       "    .dataframe thead tr th {\n",
       "        text-align: left;\n",
       "    }\n",
       "\n",
       "    .dataframe thead tr:last-of-type th {\n",
       "        text-align: right;\n",
       "    }\n",
       "</style>\n",
       "<table border=\"1\" class=\"dataframe\">\n",
       "  <thead>\n",
       "    <tr>\n",
       "      <th></th>\n",
       "      <th colspan=\"3\" halign=\"left\">days_since_prior_order</th>\n",
       "      <th colspan=\"3\" halign=\"left\">prices</th>\n",
       "    </tr>\n",
       "    <tr>\n",
       "      <th></th>\n",
       "      <th>max</th>\n",
       "      <th>min</th>\n",
       "      <th>mean</th>\n",
       "      <th>max</th>\n",
       "      <th>min</th>\n",
       "      <th>mean</th>\n",
       "    </tr>\n",
       "    <tr>\n",
       "      <th>marital_status</th>\n",
       "      <th></th>\n",
       "      <th></th>\n",
       "      <th></th>\n",
       "      <th></th>\n",
       "      <th></th>\n",
       "      <th></th>\n",
       "    </tr>\n",
       "  </thead>\n",
       "  <tbody>\n",
       "    <tr>\n",
       "      <th>divorced/widowed</th>\n",
       "      <td>30.0</td>\n",
       "      <td>0.0</td>\n",
       "      <td>9.167334</td>\n",
       "      <td>651.1</td>\n",
       "      <td>0.0</td>\n",
       "      <td>63.699751</td>\n",
       "    </tr>\n",
       "    <tr>\n",
       "      <th>living with parents and siblings</th>\n",
       "      <td>30.0</td>\n",
       "      <td>0.0</td>\n",
       "      <td>9.178205</td>\n",
       "      <td>702.9</td>\n",
       "      <td>0.0</td>\n",
       "      <td>63.640263</td>\n",
       "    </tr>\n",
       "    <tr>\n",
       "      <th>married</th>\n",
       "      <td>30.0</td>\n",
       "      <td>0.0</td>\n",
       "      <td>9.179835</td>\n",
       "      <td>762.4</td>\n",
       "      <td>0.0</td>\n",
       "      <td>63.282509</td>\n",
       "    </tr>\n",
       "    <tr>\n",
       "      <th>single</th>\n",
       "      <td>30.0</td>\n",
       "      <td>0.0</td>\n",
       "      <td>9.146790</td>\n",
       "      <td>603.8</td>\n",
       "      <td>0.0</td>\n",
       "      <td>63.123416</td>\n",
       "    </tr>\n",
       "  </tbody>\n",
       "</table>\n",
       "</div>"
      ],
      "text/plain": [
       "                                 days_since_prior_order                prices  \\\n",
       "                                                    max  min      mean    max   \n",
       "marital_status                                                                  \n",
       "divorced/widowed                                   30.0  0.0  9.167334  651.1   \n",
       "living with parents and siblings                   30.0  0.0  9.178205  702.9   \n",
       "married                                            30.0  0.0  9.179835  762.4   \n",
       "single                                             30.0  0.0  9.146790  603.8   \n",
       "\n",
       "                                                  \n",
       "                                  min       mean  \n",
       "marital_status                                    \n",
       "divorced/widowed                  0.0  63.699751  \n",
       "living with parents and siblings  0.0  63.640263  \n",
       "married                           0.0  63.282509  \n",
       "single                            0.0  63.123416  "
      ]
     },
     "execution_count": 37,
     "metadata": {},
     "output_type": "execute_result"
    }
   ],
   "source": [
    "# Usage and frequency and expenditure by marital status\n",
    "df_profile.groupby('marital_status').agg({'days_since_prior_order': ['max', 'min', 'mean'], 'prices': ['max', 'min', 'mean']})"
   ]
  },
  {
   "cell_type": "markdown",
   "id": "e5777f34-3481-4996-9106-ecde86dd7b03",
   "metadata": {},
   "source": [
    "### Numbers 8 & 9 - Compare customer profiels with regions and departments. Produce sutiable charts to illustrate results."
   ]
  },
  {
   "cell_type": "code",
   "execution_count": 42,
   "id": "a2d62f4b-b023-4e43-8249-b76c84e96e32",
   "metadata": {},
   "outputs": [
    {
     "data": {
      "text/plain": [
       "([<matplotlib.axis.XTick at 0x136fd7b1040>,\n",
       "  <matplotlib.axis.XTick at 0x136fd74b1d0>,\n",
       "  <matplotlib.axis.XTick at 0x136fdbce030>,\n",
       "  <matplotlib.axis.XTick at 0x136fdc1ca40>,\n",
       "  <matplotlib.axis.XTick at 0x136fdc1d4c0>],\n",
       " [Text(0, 0, '0'),\n",
       "  Text(2000000, 0, '2000000'),\n",
       "  Text(4000000, 0, '4000000'),\n",
       "  Text(6000000, 0, '6000000'),\n",
       "  Text(8000000, 0, '8000000')])"
      ]
     },
     "execution_count": 42,
     "metadata": {},
     "output_type": "execute_result"
    },
    {
     "data": {
      "image/png": "[encoded data removed]",
      "text/plain": [
       "<Figure size 640x480 with 1 Axes>"
      ]
     },
     "metadata": {},
     "output_type": "display_data"
    }
   ],
   "source": [
    "#Create distribution of products ordered by department bar chart.\n",
    "dept_counts = df_merge['department'].value_counts(dropna=False, ascending=True)\n",
    "dept_counts_bar = dept_counts.plot.barh(width=0.6)\n",
    "plt.gca().set_axisbelow(True)\n",
    "plt.grid(axis='both', color='lightgray', linestyle='dashed')\n",
    "plt.title('Products Ordered by Department')\n",
    "plt.ylabel('',weight='black')\n",
    "plt.xlabel('Number of Sales')\n",
    "plt.yticks(fontsize=11)\n",
    "plt.tick_params(axis= 'y', length=5)\n",
    "plt.xticks(np.arange(0, 10000000, 2000000),\n",
    "          [int(value) if np.floor(value)==value else value for value in np.arange(0, 10000000, 2000000)])"
   ]
  },
  {
   "cell_type": "code",
   "execution_count": 43,
   "id": "b114602e-b322-4f70-a2f0-c37002684bf6",
   "metadata": {},
   "outputs": [],
   "source": [
    "# Export 'dept_counts_bar' chart\n",
    "dept_counts_bar.figure.savefig(os.path.join(path, '04 Analysis', 'Visualizations', 'dept_counts_bar.png'))"
   ]
  },
  {
   "cell_type": "code",
   "execution_count": 48,
   "id": "0c99cace-6915-4be3-be01-ee2467916fb8",
   "metadata": {},
   "outputs": [
    {
     "data": {
      "text/plain": [
       "([<matplotlib.axis.XTick at 0x13704d00800>,\n",
       "  <matplotlib.axis.XTick at 0x136fd3f43e0>,\n",
       "  <matplotlib.axis.XTick at 0x13704df49b0>,\n",
       "  <matplotlib.axis.XTick at 0x13704d086b0>,\n",
       "  <matplotlib.axis.XTick at 0x13704dae0c0>],\n",
       " [Text(0, 0, '0'),\n",
       "  Text(2000000, 0, '2000000'),\n",
       "  Text(4000000, 0, '4000000'),\n",
       "  Text(6000000, 0, '6000000'),\n",
       "  Text(8000000, 0, '8000000')])"
      ]
     },
     "execution_count": 48,
     "metadata": {},
     "output_type": "execute_result"
    },
    {
     "data": {
      "image/png": "[encoded data removed]",
      "text/plain": [
       "<Figure size 640x480 with 1 Axes>"
      ]
     },
     "metadata": {},
     "output_type": "display_data"
    }
   ],
   "source": [
    "# Create Region vs products ordered by department chart\n",
    "colors = ['orange', 'blue', 'green', 'red', 'purple']\n",
    "dept_region_cross=pd.crosstab(df_merge['department'], df_merge['region'], dropna=False)\n",
    "dept_region_bar=dept_region_cross.plot.barh(color=colors, stacked=True, width=0.6)\n",
    "leg=plt.legend(loc=(1.1,0.75), title='Region', title_fontsize=12, fontsize=11)\n",
    "for text in leg.get_texts():\n",
    "    text.set_color('black')\n",
    "plt.gca().set_axisbelow(True)\n",
    "plt.grid(axis='both', color='lightgray', linestyle='dashed')\n",
    "plt.title('Products Ordered by Region')\n",
    "plt.ylabel('',weight='black')\n",
    "plt.xlabel('Number of Sales')\n",
    "plt.yticks(fontsize=11)\n",
    "plt.xticks(np.arange(0, 10000000, 2000000),\n",
    "           [int(value) if np.floor(value)==value else value for value in np.arange(0, 10000000, 2000000)])"
   ]
  },
  {
   "cell_type": "code",
   "execution_count": 49,
   "id": "f1a2544f-32ca-40f4-9180-c12c78d4199e",
   "metadata": {},
   "outputs": [],
   "source": [
    "# Exporting dept_region_bar chart\n",
    "dept_region_bar.figure.savefig(os.path.join(path, '04 Analysis', 'Visualizations', 'dept_region_bar.png'))"
   ]
  },
  {
   "cell_type": "code",
   "execution_count": 53,
   "id": "798d2a0f-91a8-4702-af9c-6f3f6a8b0560",
   "metadata": {},
   "outputs": [
    {
     "data": {
      "text/plain": [
       "([<matplotlib.axis.YTick at 0x137052db020>,\n",
       "  <matplotlib.axis.YTick at 0x137052d88f0>,\n",
       "  <matplotlib.axis.YTick at 0x1370534d640>,\n",
       "  <matplotlib.axis.YTick at 0x1370534e060>,\n",
       "  <matplotlib.axis.YTick at 0x1370534e5d0>,\n",
       "  <matplotlib.axis.YTick at 0x1370534f020>,\n",
       "  <matplotlib.axis.YTick at 0x1370534faa0>],\n",
       " [Text(0, 0, '0'),\n",
       "  Text(0, 500000, '500000'),\n",
       "  Text(0, 1000000, '1000000'),\n",
       "  Text(0, 1500000, '1500000'),\n",
       "  Text(0, 2000000, '2000000'),\n",
       "  Text(0, 2500000, '2500000'),\n",
       "  Text(0, 3000000, '3000000')])"
      ]
     },
     "execution_count": 53,
     "metadata": {},
     "output_type": "execute_result"
    },
    {
     "data": {
      "image/png": "[encoded data removed]",
      "text/plain": [
       "<Figure size 640x480 with 1 Axes>"
      ]
     },
     "metadata": {},
     "output_type": "display_data"
    }
   ],
   "source": [
    "# Create top three departments by region\n",
    "top_dept_bar=df_merge.groupby(df_merge['region'])['department'].value_counts().groupby('region').head(3).unstack().plot.bar(color=colors)\n",
    "leg=plt.legend(loc=(1.1,0.75),title='Department', title_fontsize=12, fontsize=11)\n",
    "for text in leg.get_texts():\n",
    "    text.set_color('black')\n",
    "plt.gca().set_axisbelow(True)\n",
    "plt.grid(axis='y', color='lightgray', linestyle='dashed')\n",
    "plt.title('Top 3 Departments Sales by Region')\n",
    "plt.xlabel('')\n",
    "plt.ylabel('Number of Sales')\n",
    "plt.xticks(rotation=0)\n",
    "plt.yticks(np.arange(0, 3500000, 500000),\n",
    "           [int(value) if np.floor(value)==value else value for value in np.arange(0, 3500000, 500000)])"
   ]
  },
  {
   "cell_type": "code",
   "execution_count": 54,
   "id": "eb843dca-63a0-4e5d-a7c3-eb1f79194129",
   "metadata": {},
   "outputs": [],
   "source": [
    "# Export top_dept_bar chart\n",
    "top_dept_bar.figure.savefig(os.path.join(path, '04 Analysis', 'Visualizations', 'top_dept_region.png'))"
   ]
  },
  {
   "cell_type": "code",
   "execution_count": 57,
   "id": "dc89bbf4-fca8-477d-b980-42e6b20ca77f",
   "metadata": {},
   "outputs": [
    {
     "data": {
      "text/plain": [
       "([<matplotlib.axis.XTick at 0x137059c6480>,\n",
       "  <matplotlib.axis.XTick at 0x136fd6c0a70>,\n",
       "  <matplotlib.axis.XTick at 0x137059738f0>,\n",
       "  <matplotlib.axis.XTick at 0x13705940ec0>,\n",
       "  <matplotlib.axis.XTick at 0x13705970aa0>],\n",
       " [Text(0, 0, '0'),\n",
       "  Text(2000000, 0, '2000000'),\n",
       "  Text(4000000, 0, '4000000'),\n",
       "  Text(6000000, 0, '6000000'),\n",
       "  Text(8000000, 0, '8000000')])"
      ]
     },
     "execution_count": 57,
     "metadata": {},
     "output_type": "execute_result"
    },
    {
     "data": {
      "image/png": "[encoded data removed]",
      "text/plain": [
       "<Figure size 700x500 with 1 Axes>"
      ]
     },
     "metadata": {},
     "output_type": "display_data"
    }
   ],
   "source": [
    "# Create top 10 departments bar chart\n",
    "fig=plt.figure(figsize=(7,5))\n",
    "plt.subplot(1,1,1)\n",
    "top_10_depts=df_merge['department'].value_counts(dropna=False, ascending=False).head(10)\n",
    "top_10_dept_bar=top_10_depts.sort_values().plot.barh(width=0.6, color=colors)\n",
    "plt.gca().set_axisbelow(True)\n",
    "plt.grid(axis='x', color='lightgray', linestyle='dashed')\n",
    "plt.title('Top 10 Departments')\n",
    "plt.xlabel('Number of Products Sold')\n",
    "plt.ylabel('')\n",
    "plt.yticks(fontsize=11)\n",
    "plt.xticks(np.arange(0, 10000000, 2000000),\n",
    "           [int(value) if np.floor(value)==value else value for value in np.arange(0, 10000000, 2000000)])\n"
   ]
  },
  {
   "cell_type": "code",
   "execution_count": 58,
   "id": "25caa94e-825b-4a1c-aab3-64ea2021400c",
   "metadata": {},
   "outputs": [],
   "source": [
    "# Export top_dept_bar chart\n",
    "top_dept_bar.figure.savefig(os.path.join(path, '04 Analysis', 'Visualizations', 'top_dept_bar.png'))"
   ]
  },
  {
   "cell_type": "code",
   "execution_count": 61,
   "id": "aa20aa7c-b521-40e4-9bf2-3b6df8ab3cc2",
   "metadata": {},
   "outputs": [
    {
     "data": {
      "text/plain": [
       "([<matplotlib.axis.YTick at 0x13705c12e70>,\n",
       "  <matplotlib.axis.YTick at 0x13705c111c0>,\n",
       "  <matplotlib.axis.YTick at 0x13705c7d040>,\n",
       "  <matplotlib.axis.YTick at 0x13705c586b0>],\n",
       " [Text(0, 0, '0'),\n",
       "  Text(0, 2000000, '2000000'),\n",
       "  Text(0, 4000000, '4000000'),\n",
       "  Text(0, 6000000, '6000000')])"
      ]
     },
     "execution_count": 61,
     "metadata": {},
     "output_type": "execute_result"
    },
    {
     "data": {
      "image/png": "[encoded data removed]",
      "text/plain": [
       "<Figure size 640x480 with 1 Axes>"
      ]
     },
     "metadata": {},
     "output_type": "display_data"
    }
   ],
   "source": [
    "# Create Orders by day of the week bar chart\n",
    "orders_day_bar=df_merge['orders_day_of_week'].value_counts().sort_index().plot.bar(color=colors)\n",
    "plt.gca().set_axisbelow(True)\n",
    "plt.grid(axis='y', color='lightgray', linestyle='dashed')\n",
    "plt.title('Number of Orders by Day of the Week')\n",
    "plt.ylabel('Number of Orders')\n",
    "plt.xlabel('')\n",
    "plt.xticks([0,1,2,3,4,5,6,],['Saturday', 'Sunday', 'Monday', 'Tuesday', 'Wednesday', 'Thursday', 'Friday'], rotation=0, fontsize=8)\n",
    "plt.yticks(np.arange(0, 8000000, 2000000),\n",
    "           [int(value) if np.floor(value)==value else value for value in np.arange(0, 8000000, 2000000)])"
   ]
  },
  {
   "cell_type": "code",
   "execution_count": 63,
   "id": "0042d8d6-d715-49e8-bdb2-7dabe04a3bbb",
   "metadata": {},
   "outputs": [
    {
     "data": {
      "text/plain": [
       "orders_day_of_week\n",
       "0    5908610\n",
       "1    5411686\n",
       "6    4291304\n",
       "5    4033729\n",
       "2    4024706\n",
       "3    3669535\n",
       "4    3624994\n",
       "Name: count, dtype: int64"
      ]
     },
     "execution_count": 63,
     "metadata": {},
     "output_type": "execute_result"
    }
   ],
   "source": [
    "df_merge['orders_day_of_week'].value_counts()"
   ]
  },
  {
   "cell_type": "code",
   "execution_count": 64,
   "id": "cdf0412c-1adf-4345-a4ae-f1b73da51622",
   "metadata": {},
   "outputs": [],
   "source": [
    "# Export orders_day_bar chart\n",
    "orders_day_bar.figure.savefig(os.path.join(path, '04 Analysis', 'Visualizations', 'orders_day_bar.png'))"
   ]
  },
  {
   "cell_type": "code",
   "execution_count": 65,
   "id": "4ebf770a-af61-4f0f-91c1-314c307fc9f4",
   "metadata": {},
   "outputs": [
    {
     "data": {
      "text/plain": [
       "([<matplotlib.axis.YTick at 0x13705c02e70>,\n",
       "  <matplotlib.axis.YTick at 0x1370536a330>,\n",
       "  <matplotlib.axis.YTick at 0x13706193a70>,\n",
       "  <matplotlib.axis.YTick at 0x137061a0530>,\n",
       "  <matplotlib.axis.YTick at 0x137061a0ef0>,\n",
       "  <matplotlib.axis.YTick at 0x13705c92870>],\n",
       " [Text(0, 0, '0'),\n",
       "  Text(0, 500000, '500000'),\n",
       "  Text(0, 1000000, '1000000'),\n",
       "  Text(0, 1500000, '1500000'),\n",
       "  Text(0, 2000000, '2000000'),\n",
       "  Text(0, 2500000, '2500000')])"
      ]
     },
     "execution_count": 65,
     "metadata": {},
     "output_type": "execute_result"
    },
    {
     "data": {
      "image/png": "[encoded data removed]",
      "text/plain": [
       "<Figure size 640x480 with 1 Axes>"
      ]
     },
     "metadata": {},
     "output_type": "display_data"
    }
   ],
   "source": [
    "# Create number of orders per hour chart\n",
    "order_hour_bar=df_merge['order_time_of_day'].value_counts().sort_index().plot.bar(color='blue')\n",
    "plt.gca().set_axisbelow(True)\n",
    "plt.grid(axis='y', color='lightgray', linestyle='dashed')\n",
    "plt.tight_layout()\n",
    "plt.title('Orders by Time of Day')\n",
    "plt.xlabel('Time of Day')\n",
    "plt.ylabel('Number of Orders')\n",
    "plt.xticks(rotation=0, fontsize=10)\n",
    "plt.yticks(np.arange(0, 3000000, 500000),\n",
    "           [int(value) if np.floor(value)==value else value for value in np.arange(0, 3000000, 500000)])"
   ]
  },
  {
   "cell_type": "code",
   "execution_count": 66,
   "id": "ff2176d0-ed79-40ae-8736-93b694813ecb",
   "metadata": {},
   "outputs": [],
   "source": [
    "# Export order_hour_bar chart\n",
    "order_hour_bar.figure.savefig(os.path.join(path, '04 Analysis', 'Visualizations', 'order_hour_bar.png'))"
   ]
  },
  {
   "cell_type": "code",
   "execution_count": 67,
   "id": "c934dfcd-9e7f-4d47-a719-05c5a536418a",
   "metadata": {},
   "outputs": [
    {
     "data": {
      "text/plain": [
       "([<matplotlib.axis.YTick at 0x13705c91730>,\n",
       "  <matplotlib.axis.YTick at 0x137061b0710>,\n",
       "  <matplotlib.axis.YTick at 0x13706234590>,\n",
       "  <matplotlib.axis.YTick at 0x13706234fb0>,\n",
       "  <matplotlib.axis.YTick at 0x13706235040>,\n",
       "  <matplotlib.axis.YTick at 0x13706235430>,\n",
       "  <matplotlib.axis.YTick at 0x137062363c0>],\n",
       " [Text(0, 0, '0'),\n",
       "  Text(0, 1000000, '1000000'),\n",
       "  Text(0, 2000000, '2000000'),\n",
       "  Text(0, 3000000, '3000000'),\n",
       "  Text(0, 4000000, '4000000'),\n",
       "  Text(0, 5000000, '5000000'),\n",
       "  Text(0, 6000000, '6000000')])"
      ]
     },
     "execution_count": 67,
     "metadata": {},
     "output_type": "execute_result"
    },
    {
     "data": {
      "image/png": "[encoded data removed]",
      "text/plain": [
       "<Figure size 640x480 with 1 Axes>"
      ]
     },
     "metadata": {},
     "output_type": "display_data"
    }
   ],
   "source": [
    "# Create loyalty status by region\n",
    "loyalty_region_bar=pd.crosstab(df_merge['region'], df_merge['loyalty_flag'], dropna=False).plot.bar(width=0.6, color=colors)\n",
    "leg=plt.legend(loc=(1.1,0.75), title='Loyalty Status', title_fontsize=12, fontsize=11)\n",
    "for text in leg.get_texts():\n",
    "    text.set_color('black')\n",
    "plt.gca().set_axisbelow(True)\n",
    "plt.grid(axis='y', color='lightgray', linestyle='dashed')\n",
    "plt.title('Loyalty Status by Region')\n",
    "plt.ylabel('Number of Customers')\n",
    "plt.xlabel('',weight='black')\n",
    "plt.xticks(rotation=0)\n",
    "plt.yticks(np.arange(0, 7000000, 1000000),\n",
    "           [int(value) if np.floor(value)==value else value for value in np.arange(0, 7000000, 1000000)])"
   ]
  },
  {
   "cell_type": "code",
   "execution_count": 68,
   "id": "3330c91a-d77e-4656-b2ea-104c76305e45",
   "metadata": {},
   "outputs": [],
   "source": [
    "# Export loyalty_region_bar chart\n",
    "loyalty_region_bar.figure.savefig(os.path.join(path, '04 Analysis', 'Visualizations', 'loyalty_region_bar.png'))"
   ]
  },
  {
   "cell_type": "code",
   "execution_count": 89,
   "id": "fd4c8104-a020-4668-b635-a42b8ea98fa3",
   "metadata": {},
   "outputs": [
    {
     "data": {
      "text/plain": [
       "dependants_flag\n",
       "Yes Dependants    23224883\n",
       "No Dependants      7739681\n",
       "Name: count, dtype: int64"
      ]
     },
     "execution_count": 89,
     "metadata": {},
     "output_type": "execute_result"
    }
   ],
   "source": [
    "df_merge['dependants_flag'].value_counts()"
   ]
  },
  {
   "cell_type": "code",
   "execution_count": null,
   "id": "2f40237c-08d8-49d1-a984-2a74621beb33",
   "metadata": {},
   "outputs": [],
   "source": []
  }
 ],
 "metadata": {
  "kernelspec": {
   "display_name": "Python 3 (ipykernel)",
   "language": "python",
   "name": "python3"
  },
  "language_info": {
   "codemirror_mode": {
    "name": "ipython",
    "version": 3
   },
   "file_extension": ".py",
   "mimetype": "text/x-python",
   "name": "python",
   "nbconvert_exporter": "python",
   "pygments_lexer": "ipython3",
   "version": "3.12.7"
  }
 },
 "nbformat": 4,
 "nbformat_minor": 5
}
